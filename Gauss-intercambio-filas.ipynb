{
 "cells": [
  {
   "cell_type": "markdown",
   "metadata": {},
   "source": [
    "# Clase 15 Marzo. Método de Gauss\n",
    "\n",
    "Recordemos que para empezar a trabajar siempre debemos importar numpy."
   ]
  },
  {
   "cell_type": "code",
   "execution_count": 2,
   "metadata": {
    "collapsed": true
   },
   "outputs": [],
   "source": [
    "import numpy as np\n"
   ]
  },
  {
   "cell_type": "markdown",
   "metadata": {},
   "source": [
    "En la clase pasada escribimos un algoritmo de pivoteo que funciona siempre y cuando los pivotes no se anulen. Estos algoritmos en principio los definimos como programas directamente en el computador. En esta clase los convertiremos en funciones que podremos reusar.\n",
    "\n",
    "Una función en python es un bloque de código que tiene parámetros de entrada y parámetros de salida.\n",
    "\n",
    "**Ejemplo.**"
   ]
  },
  {
   "cell_type": "code",
   "execution_count": 1,
   "metadata": {
    "collapsed": true
   },
   "outputs": [],
   "source": [
    "def una_funcion_que_no_hace_nada (a,b,c):\n",
    "    return d,e,f"
   ]
  },
  {
   "cell_type": "markdown",
   "metadata": {},
   "source": [
    "En el código anterior, la directiva `def` nos permite **definir** una función de nombre `una_funcion_que_no_hace_nada` y que tiene como parametros de entrada los nombres `a,b,c` y como parametros de salida\n",
    "los nombres `d,e,f`. La idea fundamental de una función es tomar los parámetros de entrada y mediante código de programación transformar estos parámetros en la salida.\n",
    "\n",
    "### Substitución inversa y directa\n",
    "\n",
    "En el caso de la substitución inversa, queremos resolver el sistema\n",
    "$$Rx = z$$\n",
    "donde $R$ es una matriz triangular superior. Si definimos una función `subst_inversa` es razonable que los parámetros de entrada sean la matriz $R$ y el vector $z$ y la solución $x$ calculada mediante el método de substitución inversa sea el parámetro de salida.\n",
    "Así, adaptando el código de clases anteriores obtenemos:"
   ]
  },
  {
   "cell_type": "code",
   "execution_count": 5,
   "metadata": {
    "collapsed": true
   },
   "outputs": [],
   "source": [
    "def subst_inversa(R,z):\n",
    "    n,m = R.shape\n",
    "    x = np.zeros_like(z)\n",
    "    for i in range(n-1,-1,-1):\n",
    "        x[i] = z[i]\n",
    "        for j in range(i+1,n):\n",
    "            x[i] -= R[i,j]*x[j]\n",
    "            x[i] /= R[i,i]\n",
    "    return x"
   ]
  },
  {
   "cell_type": "code",
   "execution_count": 6,
   "metadata": {
    "collapsed": false
   },
   "outputs": [
    {
     "data": {
      "text/plain": [
       "array([ 0.,  1.])"
      ]
     },
     "execution_count": 6,
     "metadata": {},
     "output_type": "execute_result"
    }
   ],
   "source": [
    "#PROBAR FUNCION.\n",
    "subst_inversa(np.array([[1,1.],[0,1.]]),np.array([1.,1.]))"
   ]
  },
  {
   "cell_type": "markdown",
   "metadata": {},
   "source": [
    "**Observación**. Note el uso de `R.shape` para obtener el número de filas de $R$.\n",
    "\n",
    "**Ejercicio.** Escribir, adaptando el código anterior, una función `subst_directa` que resuelva\n",
    "$$Lz=b$$ donde $L$ es una matriz triangular inferior y $b$ es un vector.*¿Cuales son los parámetros de entrada y salida?*"
   ]
  },
  {
   "cell_type": "code",
   "execution_count": 4,
   "metadata": {
    "collapsed": true
   },
   "outputs": [],
   "source": [
    "def subst_directa(L,b):\n",
    "    n,m = L.shape\n",
    "    z = np.zeros_like(b)\n",
    "    # COMPLETAR\n",
    "    return z"
   ]
  },
  {
   "cell_type": "markdown",
   "metadata": {},
   "source": [
    "### Método de Gauss.\n",
    "\n",
    "El algoritmo de pivoteo que vimos la clase pasada se transforma en la función `pivotear` siguiente:"
   ]
  },
  {
   "cell_type": "code",
   "execution_count": 8,
   "metadata": {
    "collapsed": true
   },
   "outputs": [],
   "source": [
    "def pivotear(A):\n",
    "    n,m = A.shape\n",
    "    L = np.eye((n,n))   # Hemos cambiado esta linea.\n",
    "    R = A.copy()\n",
    "    for k in range(0,n-1):\n",
    "        for i in range(k+1,n):\n",
    "            L[i,k] = R[i,k]/R[k,k]\n",
    "            for j in range(k,n):\n",
    "                R[i,j] = R[i,j] - L[i,k] * R[k,j]\n",
    "    return L,R"
   ]
  },
  {
   "cell_type": "markdown",
   "metadata": {},
   "source": [
    "---\n",
    "**Observación.** En esta version se tiene que $L_{i,i} = 1$, es decir que $L$ tiene $1$ en su diagonal (y por esto usamos la función `np.eye` para inicializar $L$). La razon de esto es que de algebra lineal (ver libro)\n",
    "se tiene que\n",
    "$$A = LR$$\n",
    "es decir, al pivotear estamos factorizando $A$ como el producto de una matriz triangular inferior y otra matriz triangular superior. Para verificar esto podemos usar la función `np.dot` que multiplica arrays usando el producto matricial clásico."
   ]
  },
  {
   "cell_type": "code",
   "execution_count": null,
   "metadata": {
    "collapsed": true
   },
   "outputs": [],
   "source": [
    "A = np.array([[1,1],[1.,0]])\n",
    "L,R = pivotear(A)\n",
    "L.dot(R)"
   ]
  },
  {
   "cell_type": "markdown",
   "metadata": {},
   "source": [
    "---\n",
    "Ahora podemos escribir el algoritmo de Gauss.\n",
    "\n",
    "**Algoritmo de Gauss (sin intercambio de filas)**\n",
    "\n",
    "Para resolver $Ax = b$ debemos proceder como sigue:\n",
    "1. Factorizar $A = LR$. (recordar que $det(A)=det(L)det(R)=det(R)$).\n",
    "2. Resolver $Lz = b$.\n",
    "3. Resolver $Rx = z$.\n",
    "---\n",
    "\n",
    "**Ejercicio**.\n",
    "Escriba la función `resolver`, que dados $A$ y $b$ como parametros de entrada, calcule la solución del sistema $Ax = b$. Pruebe usar su función para resolver el sistema\n",
    "$$ \\begin{array}r\n",
    "10^{-4}x_0 + x_1 &= 1\\\\\n",
    "x_0 + x_1 &= 2\\\\\n",
    "\\end{array}\n",
    "$$"
   ]
  },
  {
   "cell_type": "code",
   "execution_count": null,
   "metadata": {
    "collapsed": true
   },
   "outputs": [],
   "source": [
    "def resolver(A,b):\n",
    "    # Completar\n",
    "    return x"
   ]
  },
  {
   "cell_type": "code",
   "execution_count": null,
   "metadata": {
    "collapsed": true
   },
   "outputs": [],
   "source": [
    "A = np.array([[1e-4,1.],[1,1]])\n",
    "b = np.array([1.,2])\n",
    "resolver(A,b)"
   ]
  },
  {
   "cell_type": "markdown",
   "metadata": {},
   "source": [
    "## Gauss con intercambio de filas.\n",
    "\n",
    "Ahora nos concentraremos en implementar un algoritmo de Gauss que nos permita resolver nuestro sistema incluso cuando un pivote se anula. Sabemos de algebra lineal que en este caso debemos intercambiar la fila cuyo pivote es 0 por una fila cuyo pivote no es cero. Por razones numéricas, para elegir el pivote usaremos el siguiente criterio. Supongamos que estamos pivoteando la columna $k$, elegiremos la fila pivote $p$ que satisfaga lo siguiente:\n",
    "$$ |a_{p,k}|\\geq |a_{j,k}| \\quad\\text{para todo }j\\in\\{k,\\ldots,n-1\\}.$$\n",
    "\n",
    "**Ejercicio.**\n",
    "Escriba una función `fila_pivote`, que dados $A$ y $k$ calcule una fila pivote $p$."
   ]
  },
  {
   "cell_type": "code",
   "execution_count": null,
   "metadata": {
    "collapsed": true
   },
   "outputs": [],
   "source": [
    "def fila_pivote(A,k):\n",
    "    n,m = A.shape\n",
    "    # COMPLETAR\n",
    "    return p"
   ]
  },
  {
   "cell_type": "markdown",
   "metadata": {},
   "source": [
    "El siguiente paso, es una vez obtenida la fila pivote $p$, intercambiar la fila $p$ y la fila $k$. Esto quiere decir que\n",
    "$$a_{ij}' = \\begin{cases} a_{pj}&\\text{si } i=k,\\\\\n",
    "a_{kj}&\\text{si }i=p,\\\\\n",
    "a_{ij}&\\text{si no.}\n",
    "\\end{cases}$$\n",
    "\n",
    "**Ejercicio.**\n",
    "Escribir una función `intercambiar_filas` que cree la matriz $A'$\n",
    "que intercambia las filas $p$ y $k$ de la matriz $A$."
   ]
  },
  {
   "cell_type": "code",
   "execution_count": null,
   "metadata": {
    "collapsed": true
   },
   "outputs": [],
   "source": [
    "def intercambiar_filas(A,p,k):\n",
    "    n,m = A.shape\n",
    "    Ac = np.zeros_like(A)\n",
    "    \n",
    "    #COMPLETAR\n",
    "\n",
    "    return Ac"
   ]
  },
  {
   "cell_type": "markdown",
   "metadata": {},
   "source": [
    "Ahora sí podemos implementar:  \n",
    "\n",
    "**Algoritmo de Pivoteo con intercambio de filas**\n",
    "Para pivotear $A$:\n",
    "\n",
    "1. Para cada columna $k\\in\\{0,\\ldots,n-1\\}$, buscar la fila pivote $p$\n",
    "de acuerdo al criterio $$ |a_{p,k}|\\geq |a_{j,k}| \\quad\\text{para todo }j\\in\\{k,\\ldots,n-1\\}.$$\n",
    "2. Intercambiar las filas $p$ y $k$.\n",
    "\n",
    "3. Pivotear la columna de la misma forma que antes.\n",
    "\n",
    "**Ejercicio**\n",
    "Escribir una función `pivotear_con_intercambio` que implemente el algoritmo de Gauss completo."
   ]
  },
  {
   "cell_type": "code",
   "execution_count": null,
   "metadata": {
    "collapsed": true
   },
   "outputs": [],
   "source": [
    "def pivotear_con_intercambio(A):\n",
    "    n,m = A.shape\n",
    "    L = np.zeros_like(A)\n",
    "    R = A.copy()\n",
    "    # Completar\n",
    "    return L,R\n"
   ]
  },
  {
   "cell_type": "markdown",
   "metadata": {},
   "source": [
    "Para completar el algoritmo de Gauss para resolver $Ax=b$, debemos recordar\n",
    "que cada fila de $A$ corresponde a una ecuación en mi sistema de ecuaciones. Luego, si intercambiamos las filas $p$ y $k$ de $A$ también deberíamos intercambiar las coordenadas correspondientes del vector $b$.\n",
    "\n",
    "**Ejercicio** Modifique la función anterior para que además de entregar $L$ y $R$ entregue una lista de los pares de filas que fueron intercambiados por el algoritmo. Para esto necesitará lo siguiente:"
   ]
  },
  {
   "cell_type": "code",
   "execution_count": null,
   "metadata": {
    "collapsed": true
   },
   "outputs": [],
   "source": [
    "def pivotear_con_intercambio(A):\n",
    "    n,m = A.shape\n",
    "    rows = []\n",
    "    L = np.zeros_like(A)\n",
    "    R = A.copy()\n",
    "    # Completar\n",
    "    return L,R,rows"
   ]
  },
  {
   "cell_type": "markdown",
   "metadata": {},
   "source": [
    "**tuplas** las tuplas en python se escriben de manera natural, por ejemplo,\n",
    "`(2,3)` representa el par $(2,3)$. Las listas en python se crean con `[]`. A una lista se le pueden agregar elementos con la función `list.append`. Así,"
   ]
  },
  {
   "cell_type": "code",
   "execution_count": null,
   "metadata": {
    "collapsed": true
   },
   "outputs": [],
   "source": [
    "a = []\n",
    "a.append((2,3))\n",
    "a.append((4,5))"
   ]
  },
  {
   "cell_type": "markdown",
   "metadata": {},
   "source": [
    "genera una lista `a` que contiene los pares $(2,3)$ y $(4,5)$. El largo de la lista se calcula usando la función interna de python `len`.\n",
    "\n",
    "---\n",
    "**Ejercicio**\n",
    "Escriba una función `intercambiar_vector` que dado $b$ y una lista $rows$\n",
    "que contenga los pares de coordenadas de $b$ a intercambiar, intercambie dichas coordenadas."
   ]
  },
  {
   "cell_type": "code",
   "execution_count": null,
   "metadata": {
    "collapsed": true
   },
   "outputs": [],
   "source": [
    "def intercambiar_vector(b,rows):\n",
    "    b = b.copy()\n",
    "    # COMPLETAR\n",
    "    return b"
   ]
  },
  {
   "cell_type": "markdown",
   "metadata": {},
   "source": [
    "**Ejercicio**\n",
    "Escriba finalmente una función `resolver_Gauss` que resuelva el sistema\n",
    "$Ax=b$ y que use el algoritmo de pivoteo con intercambio de filas."
   ]
  },
  {
   "cell_type": "code",
   "execution_count": null,
   "metadata": {
    "collapsed": true
   },
   "outputs": [],
   "source": []
  }
 ],
 "metadata": {
  "kernelspec": {
   "display_name": "Python 3",
   "language": "python",
   "name": "python3"
  },
  "language_info": {
   "codemirror_mode": {
    "name": "ipython",
    "version": 3
   },
   "file_extension": ".py",
   "mimetype": "text/x-python",
   "name": "python",
   "nbconvert_exporter": "python",
   "pygments_lexer": "ipython3",
   "version": "3.5.2"
  }
 },
 "nbformat": 4,
 "nbformat_minor": 1
}
